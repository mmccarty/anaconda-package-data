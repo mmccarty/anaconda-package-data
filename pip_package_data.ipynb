{
 "cells": [
  {
   "cell_type": "code",
   "execution_count": 3,
   "metadata": {},
   "outputs": [
    {
     "name": "stdout",
     "output_type": "stream",
     "text": [
      "26580788 downloads\n"
     ]
    }
   ],
   "source": [
    "from google.cloud import bigquery\n",
    "\n",
    "# Note: depending on where this code is being run, you may require\n",
    "# additional authentication. See:\n",
    "# https://cloud.google.com/bigquery/docs/authentication/\n",
    "client = bigquery.Client()\n",
    "\n",
    "query_job = client.query(\"\"\"\n",
    "SELECT COUNT(*) AS num_downloads\n",
    "FROM `the-psf.pypi.downloads*`\n",
    "WHERE file.project = 'dask'\n",
    "-- Only query the last 30 days of history\n",
    "AND _TABLE_SUFFIX\n",
    "    BETWEEN FORMAT_DATE(\n",
    "        '%Y%m%d', DATE_SUB(CURRENT_DATE(), INTERVAL 365 DAY))\n",
    "    AND FORMAT_DATE('%Y%m%d', CURRENT_DATE())\"\"\")\n",
    "\n",
    "results = query_job.result()  # Waits for job to complete.\n",
    "for row in results:\n",
    "    print(\"{} downloads\".format(row.num_downloads))"
   ]
  },
  {
   "cell_type": "code",
   "execution_count": null,
   "metadata": {},
   "outputs": [],
   "source": []
  }
 ],
 "metadata": {
  "kernelspec": {
   "display_name": "Python 3",
   "language": "python",
   "name": "python3"
  },
  "language_info": {
   "codemirror_mode": {
    "name": "ipython",
    "version": 3
   },
   "file_extension": ".py",
   "mimetype": "text/x-python",
   "name": "python",
   "nbconvert_exporter": "python",
   "pygments_lexer": "ipython3",
   "version": "3.7.6"
  }
 },
 "nbformat": 4,
 "nbformat_minor": 4
}
